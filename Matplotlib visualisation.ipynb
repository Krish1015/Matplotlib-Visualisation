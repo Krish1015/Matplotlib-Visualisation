{
 "cells": [
  {
   "cell_type": "code",
   "execution_count": 1,
   "id": "28191b2c",
   "metadata": {},
   "outputs": [],
   "source": [
    "import pandas as pd\n",
    "import matplotlib.pyplot as plt\n",
    "import matplotlib as mpl\n",
    "from matplotlib.ticker import MaxNLocator"
   ]
  },
  {
   "cell_type": "code",
   "execution_count": 2,
   "id": "16516623",
   "metadata": {},
   "outputs": [],
   "source": [
    "df = pd.read_csv('2008.csv')"
   ]
  },
  {
   "cell_type": "code",
   "execution_count": 3,
   "id": "4fb5d289",
   "metadata": {},
   "outputs": [
    {
     "data": {
      "text/html": [
       "<div>\n",
       "<style scoped>\n",
       "    .dataframe tbody tr th:only-of-type {\n",
       "        vertical-align: middle;\n",
       "    }\n",
       "\n",
       "    .dataframe tbody tr th {\n",
       "        vertical-align: top;\n",
       "    }\n",
       "\n",
       "    .dataframe thead th {\n",
       "        text-align: right;\n",
       "    }\n",
       "</style>\n",
       "<table border=\"1\" class=\"dataframe\">\n",
       "  <thead>\n",
       "    <tr style=\"text-align: right;\">\n",
       "      <th></th>\n",
       "      <th>Year</th>\n",
       "      <th>Month</th>\n",
       "      <th>DayofMonth</th>\n",
       "      <th>DayOfWeek</th>\n",
       "      <th>DepTime</th>\n",
       "      <th>CRSDepTime</th>\n",
       "      <th>ArrTime</th>\n",
       "      <th>CRSArrTime</th>\n",
       "      <th>UniqueCarrier</th>\n",
       "      <th>FlightNum</th>\n",
       "      <th>...</th>\n",
       "      <th>TaxiIn</th>\n",
       "      <th>TaxiOut</th>\n",
       "      <th>Cancelled</th>\n",
       "      <th>CancellationCode</th>\n",
       "      <th>Diverted</th>\n",
       "      <th>CarrierDelay</th>\n",
       "      <th>WeatherDelay</th>\n",
       "      <th>NASDelay</th>\n",
       "      <th>SecurityDelay</th>\n",
       "      <th>LateAircraftDelay</th>\n",
       "    </tr>\n",
       "  </thead>\n",
       "  <tbody>\n",
       "    <tr>\n",
       "      <th>0</th>\n",
       "      <td>2008</td>\n",
       "      <td>1</td>\n",
       "      <td>3</td>\n",
       "      <td>4</td>\n",
       "      <td>1343.0</td>\n",
       "      <td>1325</td>\n",
       "      <td>1451.0</td>\n",
       "      <td>1435</td>\n",
       "      <td>WN</td>\n",
       "      <td>588</td>\n",
       "      <td>...</td>\n",
       "      <td>4.0</td>\n",
       "      <td>9.0</td>\n",
       "      <td>0</td>\n",
       "      <td>NaN</td>\n",
       "      <td>0</td>\n",
       "      <td>16.0</td>\n",
       "      <td>0.0</td>\n",
       "      <td>0.0</td>\n",
       "      <td>0.0</td>\n",
       "      <td>0.0</td>\n",
       "    </tr>\n",
       "    <tr>\n",
       "      <th>1</th>\n",
       "      <td>2008</td>\n",
       "      <td>1</td>\n",
       "      <td>3</td>\n",
       "      <td>4</td>\n",
       "      <td>1125.0</td>\n",
       "      <td>1120</td>\n",
       "      <td>1247.0</td>\n",
       "      <td>1245</td>\n",
       "      <td>WN</td>\n",
       "      <td>1343</td>\n",
       "      <td>...</td>\n",
       "      <td>3.0</td>\n",
       "      <td>8.0</td>\n",
       "      <td>0</td>\n",
       "      <td>NaN</td>\n",
       "      <td>0</td>\n",
       "      <td>NaN</td>\n",
       "      <td>NaN</td>\n",
       "      <td>NaN</td>\n",
       "      <td>NaN</td>\n",
       "      <td>NaN</td>\n",
       "    </tr>\n",
       "    <tr>\n",
       "      <th>2</th>\n",
       "      <td>2008</td>\n",
       "      <td>1</td>\n",
       "      <td>3</td>\n",
       "      <td>4</td>\n",
       "      <td>2009.0</td>\n",
       "      <td>2015</td>\n",
       "      <td>2136.0</td>\n",
       "      <td>2140</td>\n",
       "      <td>WN</td>\n",
       "      <td>3841</td>\n",
       "      <td>...</td>\n",
       "      <td>2.0</td>\n",
       "      <td>14.0</td>\n",
       "      <td>0</td>\n",
       "      <td>NaN</td>\n",
       "      <td>0</td>\n",
       "      <td>NaN</td>\n",
       "      <td>NaN</td>\n",
       "      <td>NaN</td>\n",
       "      <td>NaN</td>\n",
       "      <td>NaN</td>\n",
       "    </tr>\n",
       "    <tr>\n",
       "      <th>3</th>\n",
       "      <td>2008</td>\n",
       "      <td>1</td>\n",
       "      <td>3</td>\n",
       "      <td>4</td>\n",
       "      <td>903.0</td>\n",
       "      <td>855</td>\n",
       "      <td>1203.0</td>\n",
       "      <td>1205</td>\n",
       "      <td>WN</td>\n",
       "      <td>3</td>\n",
       "      <td>...</td>\n",
       "      <td>5.0</td>\n",
       "      <td>7.0</td>\n",
       "      <td>0</td>\n",
       "      <td>NaN</td>\n",
       "      <td>0</td>\n",
       "      <td>NaN</td>\n",
       "      <td>NaN</td>\n",
       "      <td>NaN</td>\n",
       "      <td>NaN</td>\n",
       "      <td>NaN</td>\n",
       "    </tr>\n",
       "    <tr>\n",
       "      <th>4</th>\n",
       "      <td>2008</td>\n",
       "      <td>1</td>\n",
       "      <td>3</td>\n",
       "      <td>4</td>\n",
       "      <td>1423.0</td>\n",
       "      <td>1400</td>\n",
       "      <td>1726.0</td>\n",
       "      <td>1710</td>\n",
       "      <td>WN</td>\n",
       "      <td>25</td>\n",
       "      <td>...</td>\n",
       "      <td>6.0</td>\n",
       "      <td>10.0</td>\n",
       "      <td>0</td>\n",
       "      <td>NaN</td>\n",
       "      <td>0</td>\n",
       "      <td>16.0</td>\n",
       "      <td>0.0</td>\n",
       "      <td>0.0</td>\n",
       "      <td>0.0</td>\n",
       "      <td>0.0</td>\n",
       "    </tr>\n",
       "    <tr>\n",
       "      <th>...</th>\n",
       "      <td>...</td>\n",
       "      <td>...</td>\n",
       "      <td>...</td>\n",
       "      <td>...</td>\n",
       "      <td>...</td>\n",
       "      <td>...</td>\n",
       "      <td>...</td>\n",
       "      <td>...</td>\n",
       "      <td>...</td>\n",
       "      <td>...</td>\n",
       "      <td>...</td>\n",
       "      <td>...</td>\n",
       "      <td>...</td>\n",
       "      <td>...</td>\n",
       "      <td>...</td>\n",
       "      <td>...</td>\n",
       "      <td>...</td>\n",
       "      <td>...</td>\n",
       "      <td>...</td>\n",
       "      <td>...</td>\n",
       "      <td>...</td>\n",
       "    </tr>\n",
       "    <tr>\n",
       "      <th>2389212</th>\n",
       "      <td>2008</td>\n",
       "      <td>4</td>\n",
       "      <td>17</td>\n",
       "      <td>4</td>\n",
       "      <td>1025.0</td>\n",
       "      <td>1025</td>\n",
       "      <td>1234.0</td>\n",
       "      <td>1237</td>\n",
       "      <td>DL</td>\n",
       "      <td>1207</td>\n",
       "      <td>...</td>\n",
       "      <td>5.0</td>\n",
       "      <td>16.0</td>\n",
       "      <td>0</td>\n",
       "      <td>NaN</td>\n",
       "      <td>0</td>\n",
       "      <td>NaN</td>\n",
       "      <td>NaN</td>\n",
       "      <td>NaN</td>\n",
       "      <td>NaN</td>\n",
       "      <td>NaN</td>\n",
       "    </tr>\n",
       "    <tr>\n",
       "      <th>2389213</th>\n",
       "      <td>2008</td>\n",
       "      <td>4</td>\n",
       "      <td>17</td>\n",
       "      <td>4</td>\n",
       "      <td>1319.0</td>\n",
       "      <td>1320</td>\n",
       "      <td>1527.0</td>\n",
       "      <td>1524</td>\n",
       "      <td>DL</td>\n",
       "      <td>1208</td>\n",
       "      <td>...</td>\n",
       "      <td>9.0</td>\n",
       "      <td>12.0</td>\n",
       "      <td>0</td>\n",
       "      <td>NaN</td>\n",
       "      <td>0</td>\n",
       "      <td>NaN</td>\n",
       "      <td>NaN</td>\n",
       "      <td>NaN</td>\n",
       "      <td>NaN</td>\n",
       "      <td>NaN</td>\n",
       "    </tr>\n",
       "    <tr>\n",
       "      <th>2389214</th>\n",
       "      <td>2008</td>\n",
       "      <td>4</td>\n",
       "      <td>17</td>\n",
       "      <td>4</td>\n",
       "      <td>1335.0</td>\n",
       "      <td>1335</td>\n",
       "      <td>1556.0</td>\n",
       "      <td>1553</td>\n",
       "      <td>DL</td>\n",
       "      <td>1209</td>\n",
       "      <td>...</td>\n",
       "      <td>7.0</td>\n",
       "      <td>31.0</td>\n",
       "      <td>0</td>\n",
       "      <td>NaN</td>\n",
       "      <td>0</td>\n",
       "      <td>NaN</td>\n",
       "      <td>NaN</td>\n",
       "      <td>NaN</td>\n",
       "      <td>NaN</td>\n",
       "      <td>NaN</td>\n",
       "    </tr>\n",
       "    <tr>\n",
       "      <th>2389215</th>\n",
       "      <td>2008</td>\n",
       "      <td>4</td>\n",
       "      <td>17</td>\n",
       "      <td>4</td>\n",
       "      <td>1933.0</td>\n",
       "      <td>1935</td>\n",
       "      <td>2140.0</td>\n",
       "      <td>2141</td>\n",
       "      <td>DL</td>\n",
       "      <td>1210</td>\n",
       "      <td>...</td>\n",
       "      <td>9.0</td>\n",
       "      <td>12.0</td>\n",
       "      <td>0</td>\n",
       "      <td>NaN</td>\n",
       "      <td>0</td>\n",
       "      <td>NaN</td>\n",
       "      <td>NaN</td>\n",
       "      <td>NaN</td>\n",
       "      <td>NaN</td>\n",
       "      <td>NaN</td>\n",
       "    </tr>\n",
       "    <tr>\n",
       "      <th>2389216</th>\n",
       "      <td>2008</td>\n",
       "      <td>4</td>\n",
       "      <td>17</td>\n",
       "      <td>4</td>\n",
       "      <td>621.0</td>\n",
       "      <td>615</td>\n",
       "      <td>752.0</td>\n",
       "      <td>754</td>\n",
       "      <td>DL</td>\n",
       "      <td>1211</td>\n",
       "      <td>...</td>\n",
       "      <td>15.0</td>\n",
       "      <td>12.0</td>\n",
       "      <td>0</td>\n",
       "      <td>NaN</td>\n",
       "      <td>0</td>\n",
       "      <td>NaN</td>\n",
       "      <td>NaN</td>\n",
       "      <td>NaN</td>\n",
       "      <td>NaN</td>\n",
       "      <td>NaN</td>\n",
       "    </tr>\n",
       "  </tbody>\n",
       "</table>\n",
       "<p>2389217 rows × 29 columns</p>\n",
       "</div>"
      ],
      "text/plain": [
       "         Year  Month  DayofMonth  DayOfWeek  DepTime  CRSDepTime  ArrTime  \\\n",
       "0        2008      1           3          4   1343.0        1325   1451.0   \n",
       "1        2008      1           3          4   1125.0        1120   1247.0   \n",
       "2        2008      1           3          4   2009.0        2015   2136.0   \n",
       "3        2008      1           3          4    903.0         855   1203.0   \n",
       "4        2008      1           3          4   1423.0        1400   1726.0   \n",
       "...       ...    ...         ...        ...      ...         ...      ...   \n",
       "2389212  2008      4          17          4   1025.0        1025   1234.0   \n",
       "2389213  2008      4          17          4   1319.0        1320   1527.0   \n",
       "2389214  2008      4          17          4   1335.0        1335   1556.0   \n",
       "2389215  2008      4          17          4   1933.0        1935   2140.0   \n",
       "2389216  2008      4          17          4    621.0         615    752.0   \n",
       "\n",
       "         CRSArrTime UniqueCarrier  FlightNum  ... TaxiIn  TaxiOut  Cancelled  \\\n",
       "0              1435            WN        588  ...    4.0      9.0          0   \n",
       "1              1245            WN       1343  ...    3.0      8.0          0   \n",
       "2              2140            WN       3841  ...    2.0     14.0          0   \n",
       "3              1205            WN          3  ...    5.0      7.0          0   \n",
       "4              1710            WN         25  ...    6.0     10.0          0   \n",
       "...             ...           ...        ...  ...    ...      ...        ...   \n",
       "2389212        1237            DL       1207  ...    5.0     16.0          0   \n",
       "2389213        1524            DL       1208  ...    9.0     12.0          0   \n",
       "2389214        1553            DL       1209  ...    7.0     31.0          0   \n",
       "2389215        2141            DL       1210  ...    9.0     12.0          0   \n",
       "2389216         754            DL       1211  ...   15.0     12.0          0   \n",
       "\n",
       "         CancellationCode  Diverted  CarrierDelay WeatherDelay NASDelay  \\\n",
       "0                     NaN         0          16.0          0.0      0.0   \n",
       "1                     NaN         0           NaN          NaN      NaN   \n",
       "2                     NaN         0           NaN          NaN      NaN   \n",
       "3                     NaN         0           NaN          NaN      NaN   \n",
       "4                     NaN         0          16.0          0.0      0.0   \n",
       "...                   ...       ...           ...          ...      ...   \n",
       "2389212               NaN         0           NaN          NaN      NaN   \n",
       "2389213               NaN         0           NaN          NaN      NaN   \n",
       "2389214               NaN         0           NaN          NaN      NaN   \n",
       "2389215               NaN         0           NaN          NaN      NaN   \n",
       "2389216               NaN         0           NaN          NaN      NaN   \n",
       "\n",
       "         SecurityDelay  LateAircraftDelay  \n",
       "0                  0.0                0.0  \n",
       "1                  NaN                NaN  \n",
       "2                  NaN                NaN  \n",
       "3                  NaN                NaN  \n",
       "4                  0.0                0.0  \n",
       "...                ...                ...  \n",
       "2389212            NaN                NaN  \n",
       "2389213            NaN                NaN  \n",
       "2389214            NaN                NaN  \n",
       "2389215            NaN                NaN  \n",
       "2389216            NaN                NaN  \n",
       "\n",
       "[2389217 rows x 29 columns]"
      ]
     },
     "execution_count": 3,
     "metadata": {},
     "output_type": "execute_result"
    }
   ],
   "source": [
    "df"
   ]
  },
  {
   "cell_type": "code",
   "execution_count": 5,
   "id": "6ac0fab2",
   "metadata": {},
   "outputs": [],
   "source": [
    "df = df[['Month','ArrDelay']]"
   ]
  },
  {
   "cell_type": "code",
   "execution_count": 9,
   "id": "881b7a8e",
   "metadata": {},
   "outputs": [],
   "source": [
    "df = df.dropna()"
   ]
  },
  {
   "cell_type": "code",
   "execution_count": 10,
   "id": "d2ff9207",
   "metadata": {},
   "outputs": [
    {
     "data": {
      "text/plain": [
       "Month       0\n",
       "ArrDelay    0\n",
       "dtype: int64"
      ]
     },
     "execution_count": 10,
     "metadata": {},
     "output_type": "execute_result"
    }
   ],
   "source": [
    "df.isnull().sum()"
   ]
  },
  {
   "cell_type": "code",
   "execution_count": 13,
   "id": "cd0b837f",
   "metadata": {},
   "outputs": [
    {
     "data": {
      "text/plain": [
       "array([1, 2, 3, 4], dtype=int64)"
      ]
     },
     "execution_count": 13,
     "metadata": {},
     "output_type": "execute_result"
    }
   ],
   "source": [
    " df['Month'].unique()"
   ]
  },
  {
   "cell_type": "code",
   "execution_count": 12,
   "id": "c977627f",
   "metadata": {},
   "outputs": [
    {
     "data": {
      "text/html": [
       "<div>\n",
       "<style scoped>\n",
       "    .dataframe tbody tr th:only-of-type {\n",
       "        vertical-align: middle;\n",
       "    }\n",
       "\n",
       "    .dataframe tbody tr th {\n",
       "        vertical-align: top;\n",
       "    }\n",
       "\n",
       "    .dataframe thead th {\n",
       "        text-align: right;\n",
       "    }\n",
       "</style>\n",
       "<table border=\"1\" class=\"dataframe\">\n",
       "  <thead>\n",
       "    <tr style=\"text-align: right;\">\n",
       "      <th></th>\n",
       "      <th>Month</th>\n",
       "      <th>ArrDelay</th>\n",
       "    </tr>\n",
       "  </thead>\n",
       "  <tbody>\n",
       "    <tr>\n",
       "      <th>0</th>\n",
       "      <td>1</td>\n",
       "      <td>16.0</td>\n",
       "    </tr>\n",
       "    <tr>\n",
       "      <th>404103</th>\n",
       "      <td>1</td>\n",
       "      <td>-9.0</td>\n",
       "    </tr>\n",
       "    <tr>\n",
       "      <th>404102</th>\n",
       "      <td>1</td>\n",
       "      <td>29.0</td>\n",
       "    </tr>\n",
       "    <tr>\n",
       "      <th>404101</th>\n",
       "      <td>1</td>\n",
       "      <td>191.0</td>\n",
       "    </tr>\n",
       "    <tr>\n",
       "      <th>404100</th>\n",
       "      <td>1</td>\n",
       "      <td>291.0</td>\n",
       "    </tr>\n",
       "    <tr>\n",
       "      <th>...</th>\n",
       "      <td>...</td>\n",
       "      <td>...</td>\n",
       "    </tr>\n",
       "    <tr>\n",
       "      <th>1989171</th>\n",
       "      <td>4</td>\n",
       "      <td>4.0</td>\n",
       "    </tr>\n",
       "    <tr>\n",
       "      <th>1989172</th>\n",
       "      <td>4</td>\n",
       "      <td>-2.0</td>\n",
       "    </tr>\n",
       "    <tr>\n",
       "      <th>1989173</th>\n",
       "      <td>4</td>\n",
       "      <td>-17.0</td>\n",
       "    </tr>\n",
       "    <tr>\n",
       "      <th>1989167</th>\n",
       "      <td>4</td>\n",
       "      <td>-5.0</td>\n",
       "    </tr>\n",
       "    <tr>\n",
       "      <th>2389216</th>\n",
       "      <td>4</td>\n",
       "      <td>-2.0</td>\n",
       "    </tr>\n",
       "  </tbody>\n",
       "</table>\n",
       "<p>2319121 rows × 2 columns</p>\n",
       "</div>"
      ],
      "text/plain": [
       "         Month  ArrDelay\n",
       "0            1      16.0\n",
       "404103       1      -9.0\n",
       "404102       1      29.0\n",
       "404101       1     191.0\n",
       "404100       1     291.0\n",
       "...        ...       ...\n",
       "1989171      4       4.0\n",
       "1989172      4      -2.0\n",
       "1989173      4     -17.0\n",
       "1989167      4      -5.0\n",
       "2389216      4      -2.0\n",
       "\n",
       "[2319121 rows x 2 columns]"
      ]
     },
     "execution_count": 12,
     "metadata": {},
     "output_type": "execute_result"
    }
   ],
   "source": [
    "df.sort_values(by = 'Month',ascending=True)"
   ]
  },
  {
   "cell_type": "code",
   "execution_count": 17,
   "id": "2a813a39",
   "metadata": {},
   "outputs": [],
   "source": [
    "delay_by_month = df.groupby([\"Month\"]).mean()['ArrDelay'].reset_index()"
   ]
  },
  {
   "cell_type": "markdown",
   "id": "923aaf97",
   "metadata": {},
   "source": [
    "# the Basic Plot"
   ]
  },
  {
   "cell_type": "code",
   "execution_count": 25,
   "id": "b5f86828",
   "metadata": {},
   "outputs": [
    {
     "data": {
      "image/png": "[encoded data removed]",
      "text/plain": [
       "<Figure size 1146.38x645 with 1 Axes>"
      ]
     },
     "metadata": {
      "needs_background": "light"
     },
     "output_type": "display_data"
    }
   ],
   "source": [
    "fig, ax = plt.subplots(figsize = (13.33,7.5),dpi = 86)\n",
    "bar1 = ax.bar(delay_by_month[\"Month\"],delay_by_month[\"ArrDelay\"],width = 0.6)"
   ]
  },
  {
   "cell_type": "markdown",
   "id": "d3492672",
   "metadata": {},
   "source": [
    "# Lets improve the bar graph"
   ]
  },
  {
   "cell_type": "code",
   "execution_count": 33,
   "id": "34faf538",
   "metadata": {},
   "outputs": [
    {
     "data": {
      "image/png": "[encoded data removed]",
      "text/plain": [
       "<Figure size 1146.38x645 with 1 Axes>"
      ]
     },
     "metadata": {
      "needs_background": "light"
     },
     "output_type": "display_data"
    }
   ],
   "source": [
    "fig, ax = plt.subplots(figsize = (13.33,7.5),dpi = 86)\n",
    "bar1 = ax.bar(delay_by_month[\"Month\"],delay_by_month[\"ArrDelay\"],width = 0.6)\n",
    "# creating grid\n",
    "ax.grid()\n"
   ]
  },
  {
   "cell_type": "code",
   "execution_count": 35,
   "id": "e33738ff",
   "metadata": {},
   "outputs": [
    {
     "data": {
      "image/png": "[encoded data removed]",
      "text/plain": [
       "<Figure size 1146.38x645 with 1 Axes>"
      ]
     },
     "metadata": {
      "needs_background": "light"
     },
     "output_type": "display_data"
    }
   ],
   "source": [
    "fig, ax = plt.subplots(figsize = (13.33,7.5),dpi = 86)\n",
    "bar1 = ax.bar(delay_by_month[\"Month\"],delay_by_month[\"ArrDelay\"],width = 0.6)\n",
    "# creating grid\n",
    "ax.grid(which = 'major',axis = 'x', color ='#DAD8D7')"
   ]
  },
  {
   "cell_type": "code",
   "execution_count": 77,
   "id": "039be452",
   "metadata": {},
   "outputs": [
    {
     "data": {
      "text/plain": [
       "[Text(0, 3, '10.2'), Text(0, 3, '13.1'), Text(0, 3, '11.2'), Text(0, 3, '6.8')]"
      ]
     },
     "execution_count": 77,
     "metadata": {},
     "output_type": "execute_result"
    },
    {
     "data": {
      "image/png": "[encoded data removed]",
      "text/plain": [
       "<Figure size 1146.38x645 with 1 Axes>"
      ]
     },
     "metadata": {
      "needs_background": "light"
     },
     "output_type": "display_data"
    }
   ],
   "source": [
    "fig, ax = plt.subplots(figsize = (13.33,7.5),dpi = 86)\n",
    "bar1 = ax.bar(delay_by_month[\"Month\"],delay_by_month[\"ArrDelay\"],width = 0.6)\n",
    "# creating grid\n",
    "ax.grid(which = 'major',axis = 'x', color ='#DAD8D7',alpha = 0.2, zorder = 1) # 'alpha' is the intensity of the grid lines\n",
    "ax.grid(which = 'major',axis = 'y', color ='#DAD8D7',alpha = 0.2, zorder = 1)\n",
    "\n",
    "# Reformat x-axix label and tick labels\n",
    "ax.set_xlabel('',fontsize = 12,labelpad = 10)\n",
    "ax.xaxis.set_label_position('bottom')\n",
    "ax.xaxis.set_major_formatter(lambda s, i: f'{s:,.0f}')\n",
    "ax.xaxis.set_major_locator(MaxNLocator(integer = True))\n",
    "ax.xaxis.set_tick_params(pad = 2,labelbottom = True, bottom = True,labelsize= 12, labelrotation = 0 )# 'pad' is the distace between the parameters and axis\n",
    "labels = ['Jan','Feb','Mar','Apr']\n",
    "ax.set_xticks(delay_by_month[\"Month\"],labels) # Map integer numbers from the series to labels list\n",
    "\n",
    "# Reformat y-axix label and tick labels\n",
    "ax.set_ylabel('Delay (minutes)',fontsize = 12,labelpad = 10)\n",
    "ax.yaxis.set_label_position('left')\n",
    "ax.yaxis.set_major_formatter(lambda s, i: f'{s:,.0f}')\n",
    "ax.yaxis.set_major_locator(MaxNLocator(integer = True))\n",
    "ax.yaxis.set_tick_params(pad = 2,labeltop = False ,labelbottom = True, bottom = False,labelsize= 12, labelrotation = 0 )\n",
    "\n",
    "# Add label on top of each bar\n",
    "ax.bar_label(bar1,labels= [f'{e:,.1f}' for e in delay_by_month['ArrDelay']], padding=3, color = 'black',fontsize=8)\n",
    "\n",
    "\n"
   ]
  },
  {
   "cell_type": "markdown",
   "id": "21d9a35d",
   "metadata": {},
   "source": [
    "# More improvement in the figure"
   ]
  },
  {
   "cell_type": "code",
   "execution_count": 112,
   "id": "5b691771",
   "metadata": {},
   "outputs": [
    {
     "data": {
      "image/png": "[encoded data removed]",
      "text/plain": [
       "<Figure size 1146.38x645 with 1 Axes>"
      ]
     },
     "metadata": {},
     "output_type": "display_data"
    }
   ],
   "source": [
    "fig, ax = plt.subplots(figsize = (13.33,7.5),dpi = 86)\n",
    "bar1 = ax.bar(delay_by_month[\"Month\"],delay_by_month[\"ArrDelay\"],width = 0.6)\n",
    "# creating grid\n",
    "ax.grid(which = 'major',axis = 'x', color ='#DAD8D7',alpha = 0.4, zorder = 1) # 'alpha' is the intensity of the grid lines\n",
    "ax.grid(which = 'major',axis = 'y', color ='#DAD8D7',alpha = 0.4, zorder = 1)\n",
    "\n",
    "# Reformat x-axix label and tick labels\n",
    "ax.set_xlabel('',fontsize = 12,labelpad = 10)\n",
    "ax.xaxis.set_label_position('bottom')\n",
    "ax.xaxis.set_major_formatter(lambda s, i: f'{s:,.0f}')\n",
    "ax.xaxis.set_major_locator(MaxNLocator(integer = True))\n",
    "ax.xaxis.set_tick_params(pad = 2,labelbottom = True, bottom = True,labelsize= 12, labelrotation = 0 )# 'pad' is the distace between the parameters and axis\n",
    "labels = ['Jan','Feb','Mar','Apr']\n",
    "ax.set_xticks(delay_by_month[\"Month\"],labels) # Map integer numbers from the series to labels list\n",
    "\n",
    "# Reformat y-axix label and tick labels\n",
    "ax.set_ylabel('Delay (minutes)',fontsize = 12,labelpad = 10)\n",
    "ax.yaxis.set_label_position('left')\n",
    "ax.yaxis.set_major_formatter(lambda s, i: f'{s:,.0f}')\n",
    "ax.yaxis.set_major_locator(MaxNLocator(integer = True))\n",
    "ax.yaxis.set_tick_params(pad = 2,labeltop = False ,labelbottom = True, bottom = False,labelsize= 12, labelrotation = 0 )\n",
    "\n",
    "# Add label on top of each bar\n",
    "ax.bar_label(bar1,labels= [f'{e:,.1f}' for e in delay_by_month['ArrDelay']], padding=3, color = 'black',fontsize=8)\n",
    "\n",
    "\n",
    "\n",
    "\n",
    "# Remove the spines\n",
    "ax.spines[['top','bottom','left']].set_visible(False)\n",
    "\n",
    "#Make the right so=pines more thick\n",
    "ax.spines['right'].set_linewidth(1.1)\n",
    "\n",
    "# Add redline and rectangle on top of the figure\n",
    "ax.plot([0.12,0.9],[0.98,0.98],transform = fig.transFigure, clip_on = False, color = '#E3120B',linewidth = 0.8)\n",
    "ax.add_patch(plt.Rectangle((0.12,0.98),0.04,-0.02, facecolor = '#E3120B',transform = fig.transFigure,\n",
    "                           clip_on = False, linewidth = 0))\n",
    "\n",
    "# Add in title and sub title\n",
    "ax.text(x = 0.12, y = 0.93, s = \" Average Airline Delay per Month in 2008\", transform = fig.transFigure,\n",
    "        ha = 'left', fontsize = 14, weight = 'bold', alpha = 0.8)\n",
    "ax.text(x = 0.12, y = 0.90, s = \"Different in minute in schedule and actual Arrival time average ove each month\",\n",
    "        transform = fig.transFigure,ha = 'left', fontsize = 12, alpha = 0.9)\n",
    "\n",
    "# Set source of the figure\n",
    "plt.text(x = 0.1, y = 0.12, s = 'Source : https://dataverse.harvard.edu/dataset.xhtml?persistentId=doi:10.7910/DVN/HG7NV7',\n",
    "        transform = fig.transFigure, ha = 'left',fontsize = 10, alpha = 0.7)\n",
    "\n",
    "# Adjust the margins arround the plot area\n",
    "plt.subplots_adjust(left = None, bottom = 0.2,right = None, top = 0.85, wspace=None, hspace= None )\n",
    "\n",
    "# Set a white background\n",
    "fig.patch.set_facecolor('white')\n",
    "\n"
   ]
  },
  {
   "cell_type": "markdown",
   "id": "1ef571d8",
   "metadata": {},
   "source": [
    "# More improvement The color gradient"
   ]
  },
  {
   "cell_type": "code",
   "execution_count": 113,
   "id": "95cc47e4",
   "metadata": {},
   "outputs": [],
   "source": [
    "# Colors - choose the extream colors of the map\n",
    "colours = ['#2196f3','#bbdefb']\n",
    "\n",
    "# colormap = Build the colour maps\n",
    "cmap = mpl.colors.LinearSegmentedColormap.from_list(\"color_map\",colours, N= 256)\n",
    "norm = mpl.colors.Normalize(delay_by_month['ArrDelay'].min(),delay_by_month['ArrDelay'].max())"
   ]
  },
  {
   "cell_type": "code",
   "execution_count": 115,
   "id": "fef4e55c",
   "metadata": {},
   "outputs": [
    {
     "data": {
      "image/png": "[encoded data removed]",
      "text/plain": [
       "<Figure size 1146.38x645 with 1 Axes>"
      ]
     },
     "metadata": {},
     "output_type": "display_data"
    }
   ],
   "source": [
    "# Colors - choose the extream colors of the map\n",
    "colours = ['#2196f3','#bbdefb']\n",
    "\n",
    "# colormap = Build the colour maps\n",
    "cmap = mpl.colors.LinearSegmentedColormap.from_list(\"color_map\",colours, N= 256)\n",
    "norm = mpl.colors.Normalize(delay_by_month['ArrDelay'].min(),delay_by_month['ArrDelay'].max())\n",
    "\n",
    "fig, ax = plt.subplots(figsize = (13.33,7.5),dpi = 86)\n",
    "bar1 = ax.bar(delay_by_month[\"Month\"],delay_by_month[\"ArrDelay\"],width = 0.6, \n",
    "              color = cmap(norm(delay_by_month['ArrDelay'])),zorder = 2)\n",
    "# creating grid\n",
    "ax.grid(which = 'major',axis = 'x', color ='#DAD8D7',alpha = 0.4, zorder = 1) # 'alpha' is the intensity of the grid lines\n",
    "ax.grid(which = 'major',axis = 'y', color ='#DAD8D7',alpha = 0.4, zorder = 1)\n",
    "\n",
    "# Reformat x-axix label and tick labels\n",
    "ax.set_xlabel('',fontsize = 12,labelpad = 10)\n",
    "ax.xaxis.set_label_position('bottom')\n",
    "ax.xaxis.set_major_formatter(lambda s, i: f'{s:,.0f}')\n",
    "ax.xaxis.set_major_locator(MaxNLocator(integer = True))\n",
    "ax.xaxis.set_tick_params(pad = 2,labelbottom = True, bottom = True,labelsize= 12, labelrotation = 0 )# 'pad' is the distace between the parameters and axis\n",
    "labels = ['Jan','Feb','Mar','Apr']\n",
    "ax.set_xticks(delay_by_month[\"Month\"],labels) # Map integer numbers from the series to labels list\n",
    "\n",
    "# Reformat y-axix label and tick labels\n",
    "ax.set_ylabel('Delay (minutes)',fontsize = 12,labelpad = 10)\n",
    "ax.yaxis.set_label_position('left')\n",
    "ax.yaxis.set_major_formatter(lambda s, i: f'{s:,.0f}')\n",
    "ax.yaxis.set_major_locator(MaxNLocator(integer = True))\n",
    "ax.yaxis.set_tick_params(pad = 2,labeltop = False ,labelbottom = True, bottom = False,labelsize= 12, labelrotation = 0 )\n",
    "\n",
    "# Add label on top of each bar\n",
    "ax.bar_label(bar1,labels= [f'{e:,.1f}' for e in delay_by_month['ArrDelay']], padding=3, color = 'black',fontsize=8)\n",
    "\n",
    "\n",
    "\n",
    "\n",
    "# Remove the spines\n",
    "ax.spines[['top','bottom','left']].set_visible(False)\n",
    "\n",
    "#Make the right so=pines more thick\n",
    "ax.spines['right'].set_linewidth(1.1)\n",
    "\n",
    "# Add redline and rectangle on top of the figure\n",
    "ax.plot([0.12,0.9],[0.98,0.98],transform = fig.transFigure, clip_on = False, color = '#E3120B',linewidth = 0.8)\n",
    "ax.add_patch(plt.Rectangle((0.12,0.98),0.04,-0.02, facecolor = '#E3120B',transform = fig.transFigure,\n",
    "                           clip_on = False, linewidth = 0))\n",
    "\n",
    "# Add in title and sub title\n",
    "ax.text(x = 0.12, y = 0.93, s = \" Average Airline Delay per Month in 2008\", transform = fig.transFigure,\n",
    "        ha = 'left', fontsize = 14, weight = 'bold', alpha = 0.8)\n",
    "ax.text(x = 0.12, y = 0.90, s = \"Different in minute in schedule and actual Arrival time average ove each month\",\n",
    "        transform = fig.transFigure,ha = 'left', fontsize = 12, alpha = 0.9)\n",
    "\n",
    "# Set source of the figure\n",
    "plt.text(x = 0.1, y = 0.12, s = 'Source : https://dataverse.harvard.edu/dataset.xhtml?persistentId=doi:10.7910/DVN/HG7NV7',\n",
    "        transform = fig.transFigure, ha = 'left',fontsize = 10, alpha = 0.7)\n",
    "\n",
    "# Adjust the margins arround the plot area\n",
    "plt.subplots_adjust(left = None, bottom = 0.2,right = None, top = 0.85, wspace=None, hspace= None )\n",
    "\n",
    "# Set a white background\n",
    "fig.patch.set_facecolor('white')"
   ]
  },
  {
   "cell_type": "code",
   "execution_count": 118,
   "id": "b8b70e43",
   "metadata": {},
   "outputs": [],
   "source": [
    "# More improvement - Second Color Gradient and legend\n",
    "\n",
    "# find the average data point and split the series in 2\n",
    "average = delay_by_month[\"ArrDelay\"].mean()\n",
    "below_average = delay_by_month[delay_by_month[\"ArrDelay\"]< average]\n",
    "above_average = delay_by_month[delay_by_month['ArrDelay']>=average]"
   ]
  },
  {
   "cell_type": "code",
   "execution_count": 120,
   "id": "c68a5abe",
   "metadata": {},
   "outputs": [
    {
     "data": {
      "text/plain": [
       "<matplotlib.legend.Legend at 0x270bc053880>"
      ]
     },
     "execution_count": 120,
     "metadata": {},
     "output_type": "execute_result"
    },
    {
     "data": {
      "image/png": "[encoded data removed]",
      "text/plain": [
       "<Figure size 432x288 with 1 Axes>"
      ]
     },
     "metadata": {
      "needs_background": "light"
     },
     "output_type": "display_data"
    }
   ],
   "source": [
    "#Colours - Choose the extreme colours of the colour map\n",
    "colors_high = [\"#ff5a5f\", \"#c81d25\"] # Extreme colours of the high scale\n",
    "colors_low = [\"#2196f3\",\"#bbdefb\"] # Extreme colours of the low scale\n",
    "\n",
    "# Colormap - Build the colour maps\n",
    "cmap_low = mpl.colors.LinearSegmentedColormap.from_list(\"low_map\", colors_low, N=256)\n",
    "cmap_high = mpl.colors.LinearSegmentedColormap.from_list(\"high_map\", colors_high, N=256)\n",
    "norm_low = mpl.colors.Normalize(below_average['ArrDelay'].min(), average) # linearly normalizes data into the [0.0, 1.0] interval\n",
    "norm_high = mpl.colors.Normalize(average, above_average['ArrDelay'].max())\n",
    "\n",
    "# Plot bars and average (horizontal) line\n",
    "bar1 = ax.bar(below_average['Month'], below_average['ArrDelay'], color=cmap_low(norm_low(below_average['ArrDelay'])), width=0.6, label='Below Average', zorder=2)\n",
    "bar2 = ax.bar(above_average['Month'], above_average['ArrDelay'], color=cmap_high(norm_high(above_average['ArrDelay'])), width=0.6, label='Above Average', zorder=2)\n",
    "plt.axhline(y=average, color = 'grey', linewidth=3)\n",
    "\n",
    "# Determine the y-limits of the plot\n",
    "ymin, ymax = ax.get_ylim()\n",
    "# Calculate a suitable y position for the text label\n",
    "y_pos = average/ymax + 0.03\n",
    "# Annotate the average line\n",
    "ax.text(0.88, y_pos, f'Average = {average:.1f}', ha='right', va='center', transform=ax.transAxes, size=8, zorder=3)\n",
    "\n",
    "# Add legend\n",
    "ax.legend(loc=\"best\", ncol=2, bbox_to_anchor=[1, 1.07], borderaxespad=0, frameon=False, fontsize=8)"
   ]
  },
  {
   "cell_type": "code",
   "execution_count": 123,
   "id": "401208e6",
   "metadata": {},
   "outputs": [
    {
     "data": {
      "text/plain": [
       "<matplotlib.legend.Legend at 0x270c4b0aa40>"
      ]
     },
     "execution_count": 123,
     "metadata": {},
     "output_type": "execute_result"
    },
    {
     "data": {
      "image/png": "[encoded data removed]",
      "text/plain": [
       "<Figure size 1146.38x645 with 1 Axes>"
      ]
     },
     "metadata": {},
     "output_type": "display_data"
    }
   ],
   "source": [
    "# Colors - choose the extream colors of the map\n",
    "colours = ['#2196f3','#bbdefb']\n",
    "\n",
    "# colormap = Build the colour maps\n",
    "cmap = mpl.colors.LinearSegmentedColormap.from_list(\"color_map\",colours, N= 256)\n",
    "norm = mpl.colors.Normalize(delay_by_month['ArrDelay'].min(),delay_by_month['ArrDelay'].max())\n",
    "\n",
    "fig, ax = plt.subplots(figsize = (13.33,7.5),dpi = 86)\n",
    "bar1 = ax.bar(delay_by_month[\"Month\"],delay_by_month[\"ArrDelay\"],width = 0.6, \n",
    "              color = cmap(norm(delay_by_month['ArrDelay'])),zorder = 2)\n",
    "# creating grid\n",
    "ax.grid(which = 'major',axis = 'x', color ='#DAD8D7',alpha = 0.4, zorder = 1) # 'alpha' is the intensity of the grid lines\n",
    "ax.grid(which = 'major',axis = 'y', color ='#DAD8D7',alpha = 0.4, zorder = 1)\n",
    "\n",
    "# Reformat x-axix label and tick labels\n",
    "ax.set_xlabel('',fontsize = 12,labelpad = 10)\n",
    "ax.xaxis.set_label_position('bottom')\n",
    "ax.xaxis.set_major_formatter(lambda s, i: f'{s:,.0f}')\n",
    "ax.xaxis.set_major_locator(MaxNLocator(integer = True))\n",
    "ax.xaxis.set_tick_params(pad = 2,labelbottom = True, bottom = True,labelsize= 12, labelrotation = 0 )# 'pad' is the distace between the parameters and axis\n",
    "labels = ['Jan','Feb','Mar','Apr']\n",
    "ax.set_xticks(delay_by_month[\"Month\"],labels) # Map integer numbers from the series to labels list\n",
    "\n",
    "# Reformat y-axix label and tick labels\n",
    "ax.set_ylabel('Delay (minutes)',fontsize = 12,labelpad = 10)\n",
    "ax.yaxis.set_label_position('left')\n",
    "ax.yaxis.set_major_formatter(lambda s, i: f'{s:,.0f}')\n",
    "ax.yaxis.set_major_locator(MaxNLocator(integer = True))\n",
    "ax.yaxis.set_tick_params(pad = 2,labeltop = False ,labelbottom = True, bottom = False,labelsize= 12, labelrotation = 0 )\n",
    "\n",
    "# Add label on top of each bar\n",
    "ax.bar_label(bar1,labels= [f'{e:,.1f}' for e in delay_by_month['ArrDelay']], padding=3, color = 'black',fontsize=8)\n",
    "\n",
    "\n",
    "\n",
    "\n",
    "# Remove the spines\n",
    "ax.spines[['top','bottom','left']].set_visible(False)\n",
    "\n",
    "#Make the right so=pines more thick\n",
    "ax.spines['right'].set_linewidth(1.1)\n",
    "\n",
    "# Add redline and rectangle on top of the figure\n",
    "ax.plot([0.12,0.9],[0.98,0.98],transform = fig.transFigure, clip_on = False, color = '#E3120B',linewidth = 0.8)\n",
    "ax.add_patch(plt.Rectangle((0.12,0.98),0.04,-0.02, facecolor = '#E3120B',transform = fig.transFigure,\n",
    "                           clip_on = False, linewidth = 0))\n",
    "\n",
    "# Add in title and sub title\n",
    "ax.text(x = 0.12, y = 0.93, s = \" Average Airline Delay per Month in 2008\", transform = fig.transFigure,\n",
    "        ha = 'left', fontsize = 14, weight = 'bold', alpha = 0.8)\n",
    "ax.text(x = 0.12, y = 0.90, s = \"Different in minute in schedule and actual Arrival time average ove each month\",\n",
    "        transform = fig.transFigure,ha = 'left', fontsize = 12, alpha = 0.9)\n",
    "\n",
    "# Set source of the figure\n",
    "plt.text(x = 0.1, y = 0.12, s = 'Source : https://dataverse.harvard.edu/dataset.xhtml?persistentId=doi:10.7910/DVN/HG7NV7',\n",
    "        transform = fig.transFigure, ha = 'left',fontsize = 10, alpha = 0.7)\n",
    "\n",
    "# Adjust the margins arround the plot area\n",
    "plt.subplots_adjust(left = None, bottom = 0.2,right = None, top = 0.85, wspace=None, hspace= None )\n",
    "\n",
    "# Set a white background\n",
    "fig.patch.set_facecolor('white')\n",
    "\n",
    "#Colours - Choose the extreme colours of the colour map\n",
    "colors_high = [\"#ff5a5f\", \"#c81d25\"] # Extreme colours of the high scale\n",
    "colors_low = [\"#2196f3\",\"#bbdefb\"] # Extreme colours of the low scale\n",
    "\n",
    "# Colormap - Build the colour maps\n",
    "cmap_low = mpl.colors.LinearSegmentedColormap.from_list(\"low_map\", colors_low, N=256)\n",
    "cmap_high = mpl.colors.LinearSegmentedColormap.from_list(\"high_map\", colors_high, N=256)\n",
    "norm_low = mpl.colors.Normalize(below_average['ArrDelay'].min(), average) # linearly normalizes data into the [0.0, 1.0] interval\n",
    "norm_high = mpl.colors.Normalize(average, above_average['ArrDelay'].max())\n",
    "\n",
    "# Plot bars and average (horizontal) line\n",
    "bar1 = ax.bar(below_average['Month'], below_average['ArrDelay'], color=cmap_low(norm_low(below_average['ArrDelay'])), width=0.6, label='Below Average', zorder=2)\n",
    "bar2 = ax.bar(above_average['Month'], above_average['ArrDelay'], color=cmap_high(norm_high(above_average['ArrDelay'])), width=0.6, label='Above Average', zorder=2)\n",
    "plt.axhline(y=average, color = 'grey', linewidth=3)\n",
    "\n",
    "# Determine the y-limits of the plot\n",
    "ymin, ymax = ax.get_ylim()\n",
    "# Calculate a suitable y position for the text label\n",
    "y_pos = average/ymax + 0.03\n",
    "# Annotate the average line\n",
    "ax.text(0.88, y_pos, f'Average = {average:.1f}', ha='right', va='center', transform=ax.transAxes, size=8, zorder=3)\n",
    "\n",
    "# Add legend\n",
    "ax.legend(loc=\"best\", ncol=2, bbox_to_anchor=[1, 1.07], borderaxespad=0, frameon=False, fontsize=8)"
   ]
  },
  {
   "cell_type": "code",
   "execution_count": null,
   "id": "65d842ae",
   "metadata": {},
   "outputs": [],
   "source": []
  }
 ],
 "metadata": {
  "kernelspec": {
   "display_name": "Python 3 (ipykernel)",
   "language": "python",
   "name": "python3"
  },
  "language_info": {
   "codemirror_mode": {
    "name": "ipython",
    "version": 3
   },
   "file_extension": ".py",
   "mimetype": "text/x-python",
   "name": "python",
   "nbconvert_exporter": "python",
   "pygments_lexer": "ipython3",
   "version": "3.10.4"
  }
 },
 "nbformat": 4,
 "nbformat_minor": 5
}
